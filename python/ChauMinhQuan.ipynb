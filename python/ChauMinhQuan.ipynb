{
  "cells": [
    {
      "cell_type": "code",
      "execution_count": null,
      "metadata": {
        "id": "M5XqjzmpsK4K"
      },
      "outputs": [],
      "source": [
        "a = int(input())\n",
        "b = int(input())\n",
        "aTob = a**b\n",
        "bToa = b**a\n",
        "if aTob > bToa:\n",
        "  print(aTob)\n",
        "else:\n",
        "  print(bToa)"
      ]
    },
    {
      "cell_type": "code",
      "execution_count": null,
      "metadata": {
        "id": "9msfeoDGspdd"
      },
      "outputs": [],
      "source": [
        "a = int(input())\n",
        "print(\"Là số \" + \"chẵn \" * (a%2 == 0)\n",
        "+ \"lẻ \" * (a%2 != 0)\n",
        "+ \"chia hết cho 3 \" * (a%3 == 0)\n",
        "+ \"không chia hết cho 3\" * (a%2 != 0 and a%3 != 0))\n"
      ]
    },
    {
      "cell_type": "markdown",
      "metadata": {
        "id": "stWttWIXrwgG"
      },
      "source": [
        "## Exercise 1:\n",
        "Rewrite your pay computation to give the employee 1.5 times the hourly rate for hours worked above 40 hours."
      ]
    },
    {
      "cell_type": "code",
      "execution_count": null,
      "metadata": {
        "id": "9cvMVtr9rwgI"
      },
      "outputs": [],
      "source": [
        "hours = int(input(\"Enter Hours: \"))\n",
        "# If hours > 40, give bonus 1.5 times for overworking hour\n",
        "rate = int(input(\"Enter Rate: \"))\n",
        "pay = 0\n",
        "if hours > 40:\n",
        "    pay = (40 * rate) + ((hours - 40) * (rate * 1.5))\n",
        "else:\n",
        "    pay = hours * rate\n",
        "print(pay)"
      ]
    },
    {
      "cell_type": "markdown",
      "metadata": {
        "id": "8fXHyj48rwgJ"
      },
      "source": [
        "## Exercise 2:\n",
        "Rewrite your pay program using try and except so that your program handles non-numeric input gracefully by printing a message and exiting the program."
      ]
    },
    {
      "cell_type": "code",
      "execution_count": null,
      "metadata": {
        "id": "I8GoLp3ArwgJ",
        "outputId": "0b0b4300-97c6-466e-a047-791a814270f5"
      },
      "outputs": [],
      "source": [
        "hours = input(\"Enter Hours: \")\n",
        "try:\n",
        "    hours = int(hours)\n",
        "    rate = input(\"Enter Rate: \")\n",
        "    try:\n",
        "        rate = int(rate)\n",
        "        pay = 0\n",
        "        if hours > 40:\n",
        "            pay = (40 * rate) + ((hours - 40) * (rate * 1.5))\n",
        "        else:\n",
        "            pay = hours * rate\n",
        "        print(pay)\n",
        "    except:\n",
        "        print(\"Error, please enter numeric input\")\n",
        "except:\n",
        "    print(\"Error, please enter numeric input\")\n"
      ]
    },
    {
      "cell_type": "markdown",
      "metadata": {},
      "source": [
        "## Exercise 3:\n",
        "Write a program to prompt for a score between 0.0 and 1.0. If the score is out of range, print an error message. If the score is between 0.0 and 1.0, print a grade using the folling table\n",
        "\n",
        "| Score | Grade |\n",
        "| ----- | ----- |\n",
        "| >= 0.9 | A |\n",
        "| >= 0.8 | B |\n",
        "| >= 0.7 | C |\n",
        "| >= 0.6 | D |\n",
        "| <  0.6 | F |"
      ]
    },
    {
      "cell_type": "code",
      "execution_count": null,
      "metadata": {},
      "outputs": [],
      "source": [
        "cheating = {\n",
        "    1.0: 'A',\n",
        "    0.9: 'A',\n",
        "    0.8: 'B',\n",
        "    0.7: 'C',\n",
        "    0.6: 'D',\n",
        "}\n",
        "\n",
        "try:\n",
        "    score = float(input(\"Enter Score: \"))\n",
        "    truncated = int(score * 10) / 10\n",
        "    # print(truncated)\n",
        "    if score < 0.0 or score > 1.0:\n",
        "        print(\"Bad score\")\n",
        "    elif truncated < 0.6:\n",
        "        print('F')\n",
        "    else:\n",
        "        print(cheating.get(truncated, 'Bad score'))\n",
        "except:\n",
        "    print(\"Bad score\")"
      ]
    }
  ],
  "metadata": {
    "colab": {
      "provenance": []
    },
    "kernelspec": {
      "display_name": "Python 3",
      "language": "python",
      "name": "python3"
    },
    "language_info": {
      "codemirror_mode": {
        "name": "ipython",
        "version": 3
      },
      "file_extension": ".py",
      "mimetype": "text/x-python",
      "name": "python",
      "nbconvert_exporter": "python",
      "pygments_lexer": "ipython3",
      "version": "3.12.3"
    }
  },
  "nbformat": 4,
  "nbformat_minor": 0
}

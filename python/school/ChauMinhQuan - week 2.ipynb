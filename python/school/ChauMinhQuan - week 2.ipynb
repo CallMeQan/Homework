{
 "cells": [
  {
   "cell_type": "markdown",
   "metadata": {},
   "source": [
    "### **Homework 1**\n",
    "Input a student name list. Sort it by last name, first name and middlename increasingly."
   ]
  },
  {
   "cell_type": "code",
   "execution_count": null,
   "metadata": {},
   "outputs": [],
   "source": [
    "# Function to get student names from user input\n",
    "def get_student_names():\n",
    "    student_names = []\n",
    "    print(\"Enter student names (type 'done' when finished):\")\n",
    "    while True:\n",
    "        name = input(\"Enter name: \")\n",
    "        if name.lower() == 'done':\n",
    "            break\n",
    "        student_names.append(name)\n",
    "    return student_names\n",
    "\n",
    "# Function to sort names\n",
    "def sort_names(names):\n",
    "    # Split each name into parts and sort by last name, first name, and middle name\n",
    "    sorted_names = sorted(names, key=lambda name: (name.split()[-1], name.split()[0], name.split()[1] if len(name.split()) > 2 else \"\"))\n",
    "    return sorted_names\n",
    "\n",
    "# Get student names from user input\n",
    "student_names = get_student_names()\n",
    "\n",
    "# Sort the student names\n",
    "sorted_student_names = sort_names(student_names)\n",
    "\n",
    "# Print the sorted list\n",
    "print(\"Sorted student names:\")\n",
    "for name in sorted_student_names:\n",
    "    print(name)"
   ]
  },
  {
   "cell_type": "markdown",
   "metadata": {},
   "source": [
    "### **Homework 2**\n",
    "Input a serie of numbers. Divide them into 2 groups that their sum is the least difference."
   ]
  },
  {
   "cell_type": "code",
   "execution_count": 9,
   "metadata": {},
   "outputs": [
    {
     "name": "stdout",
     "output_type": "stream",
     "text": [
      "The minimum difference is: 1\n"
     ]
    }
   ],
   "source": [
    "from bisect import bisect_left\n",
    "from typing import List\n",
    "from pprint import pprint\n",
    "class Solution:\n",
    "    def minimumDifference(self, nums: List[int]) -> int:\n",
    "        n = len(nums)\n",
    "        total_sum = sum(nums)\n",
    "        \n",
    "        N = n // 2\n",
    "\n",
    "        # These lists will store the possible sums of subsets of the left and right halves of the array, categorized by the number of elements included in the subset.\n",
    "        left = [[] for _ in range(N+1)]\n",
    "        right = [[] for _ in range(N+1)]\n",
    "        \n",
    "        # Storing all possible sums in left and right parts\n",
    "        for mask in range(1 << N):\n",
    "            sz = l = r = 0\n",
    "            for i in range(N):\n",
    "                if mask & (1 << i):\n",
    "                    sz += 1\n",
    "                    l += nums[i]\n",
    "                    r += nums[i + N]\n",
    "            left[sz].append(l)\n",
    "            right[sz].append(r)\n",
    "\n",
    "        # Sort the right half for binary search\n",
    "        for sz in range(N+1):\n",
    "            right[sz].sort()\n",
    "\n",
    "        # Initial result\n",
    "        res = min(abs(total_sum - 2 * left[N][0]), abs(total_sum - 2 * right[N][0]))\n",
    "\n",
    "        # Iterating over the left part\n",
    "        for sz in range(1, N):\n",
    "            for a in left[sz]:\n",
    "                b = (total_sum - 2 * a) // 2\n",
    "                rsz = N - sz\n",
    "                v = right[rsz]\n",
    "                idx = bisect_left(v, b)  # Binary search on right part\n",
    "                \n",
    "                if idx < len(v):\n",
    "                    res = min(res, abs(total_sum - 2 * (a + v[idx])))\n",
    "                if idx > 0:\n",
    "                    res = min(res, abs(total_sum - 2 * (a + v[idx - 1])))\n",
    "        \n",
    "        return res, left, right\n",
    "\n",
    "\n",
    "input_numbers_str = input(\"Enter a series of numbers separated by spaces: \")\n",
    "numbers = [int(x) for x in input_numbers_str.split()]\n",
    "sol = Solution()\n",
    "result, left, right = sol.minimumDifference(numbers)\n",
    "print(\"The minimum difference is:\", result)\n",
    "# pprint(left, width=1000)\n",
    "# pprint(right, width=1000)"
   ]
  }
 ],
 "metadata": {
  "kernelspec": {
   "display_name": "Python 3",
   "language": "python",
   "name": "python3"
  },
  "language_info": {
   "codemirror_mode": {
    "name": "ipython",
    "version": 3
   },
   "file_extension": ".py",
   "mimetype": "text/x-python",
   "name": "python",
   "nbconvert_exporter": "python",
   "pygments_lexer": "ipython3",
   "version": "3.12.3"
  }
 },
 "nbformat": 4,
 "nbformat_minor": 2
}

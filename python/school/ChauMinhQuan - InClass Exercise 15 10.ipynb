{
 "cells": [
  {
   "cell_type": "code",
   "execution_count": 2,
   "metadata": {},
   "outputs": [
    {
     "name": "stdout",
     "output_type": "stream",
     "text": [
      "Windchill:   30\n"
     ]
    }
   ],
   "source": [
    "\"\"\"\n",
    "    Computes windchill as function of wind (mph) and temperature (F).\n",
    "\"\"\"\n",
    "Temp = float(input(\"Enter the temperature in Fahrenheit: \"))\n",
    "Wind = float(input(\"Enter the wind speed in mph: \"))\n",
    "\n",
    "#Model Parameters\n",
    "a = 35.74\n",
    "b = 0.6215\n",
    "c = -35.75\n",
    "d = 0.4275\n",
    "e = .16\n",
    "\n",
    "WC = (a+b*Temp) + (c+d*Temp)*Wind**e\n",
    "\n",
    "print('Windchill: %4.0f' % WC)\n"
   ]
  }
 ],
 "metadata": {
  "kernelspec": {
   "display_name": "Python 3",
   "language": "python",
   "name": "python3"
  },
  "language_info": {
   "codemirror_mode": {
    "name": "ipython",
    "version": 3
   },
   "file_extension": ".py",
   "mimetype": "text/x-python",
   "name": "python",
   "nbconvert_exporter": "python",
   "pygments_lexer": "ipython3",
   "version": "3.12.3"
  }
 },
 "nbformat": 4,
 "nbformat_minor": 2
}

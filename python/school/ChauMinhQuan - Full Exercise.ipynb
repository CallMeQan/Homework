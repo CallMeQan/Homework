{
  "cells": [
    {
      "cell_type": "markdown",
      "metadata": {},
      "source": [
        "# **Học tập là không ngừng bỏ cuộc**\n",
        "Học tập cũng như cuộc sống. Khi ta giỏi, mọi người làm quen với ta. Khi ta tệ, mọi người chà đạp lên ta. Vì thế chúng ta không ngừng bỏ cuộc để vươn đến thành công."
      ]
    },
    {
      "cell_type": "markdown",
      "metadata": {},
      "source": [
        "### Bài luyện tập ở lớp 1"
      ]
    },
    {
      "cell_type": "code",
      "execution_count": null,
      "metadata": {
        "id": "M5XqjzmpsK4K"
      },
      "outputs": [],
      "source": [
        "a = int(input())\n",
        "b = int(input())\n",
        "aTob = a**b\n",
        "bToa = b**a\n",
        "if aTob > bToa:\n",
        "  print(aTob)\n",
        "else:\n",
        "  print(bToa)"
      ]
    },
    {
      "cell_type": "markdown",
      "metadata": {},
      "source": [
        "### Bài luyện tập ở lớp 2"
      ]
    },
    {
      "cell_type": "code",
      "execution_count": null,
      "metadata": {
        "id": "9msfeoDGspdd"
      },
      "outputs": [],
      "source": [
        "a = int(input())\n",
        "print(\"Là số \" + \"chẵn \" * (a%2 == 0)\n",
        "+ \"lẻ \" * (a%2 != 0)\n",
        "+ \"chia hết cho 3 \" * (a%3 == 0)\n",
        "+ \"không chia hết cho 3\" * (a%2 != 0 and a%3 != 0))\n"
      ]
    },
    {
      "cell_type": "markdown",
      "metadata": {
        "id": "stWttWIXrwgG"
      },
      "source": [
        "## **Exercise 1:**\n",
        "Rewrite your pay computation to give the employee 1.5 times the hourly rate for hours worked above 40 hours."
      ]
    },
    {
      "cell_type": "code",
      "execution_count": null,
      "metadata": {
        "id": "9cvMVtr9rwgI"
      },
      "outputs": [],
      "source": [
        "hours = int(input(\"Enter Hours: \"))\n",
        "# If hours > 40, give bonus 1.5 times for overworking hour\n",
        "rate = int(input(\"Enter Rate: \"))\n",
        "pay = 0\n",
        "if hours > 40:\n",
        "    pay = (40 * rate) + ((hours - 40) * (rate * 1.5))\n",
        "else:\n",
        "    pay = hours * rate\n",
        "print(pay)"
      ]
    },
    {
      "cell_type": "markdown",
      "metadata": {
        "id": "8fXHyj48rwgJ"
      },
      "source": [
        "## **Exercise 2:**\n",
        "Rewrite your pay program using try and except so that your program handles non-numeric input gracefully by printing a message and exiting the program."
      ]
    },
    {
      "cell_type": "code",
      "execution_count": null,
      "metadata": {
        "id": "I8GoLp3ArwgJ",
        "outputId": "0b0b4300-97c6-466e-a047-791a814270f5"
      },
      "outputs": [],
      "source": [
        "hours = input(\"Enter Hours: \")\n",
        "try:\n",
        "    hours = int(hours)\n",
        "    rate = input(\"Enter Rate: \")\n",
        "    try:\n",
        "        rate = int(rate)\n",
        "        pay = 0\n",
        "        if hours > 40:\n",
        "            pay = (40 * rate) + ((hours - 40) * (rate * 1.5))\n",
        "        else:\n",
        "            pay = hours * rate\n",
        "        print(pay)\n",
        "    except:\n",
        "        print(\"Error, please enter numeric input\")\n",
        "except:\n",
        "    print(\"Error, please enter numeric input\")\n"
      ]
    },
    {
      "cell_type": "markdown",
      "metadata": {},
      "source": [
        "## **Exercise 3:**\n",
        "Write a program to prompt for a score between 0.0 and 1.0. If the score is out of range, print an error message. If the score is between 0.0 and 1.0, print a grade using the folling table\n",
        "\n",
        "| Score | Grade |\n",
        "| ----- | ----- |\n",
        "| >= 0.9 | A |\n",
        "| >= 0.8 | B |\n",
        "| >= 0.7 | C |\n",
        "| >= 0.6 | D |\n",
        "| <  0.6 | F |"
      ]
    },
    {
      "cell_type": "code",
      "execution_count": null,
      "metadata": {},
      "outputs": [],
      "source": [
        "cheating = {\n",
        "    1.0: 'A',\n",
        "    0.9: 'A',\n",
        "    0.8: 'B',\n",
        "    0.7: 'C',\n",
        "    0.6: 'D',\n",
        "}\n",
        "\n",
        "try:\n",
        "    score = float(input(\"Enter Score: \"))\n",
        "    truncated = int(score * 10) / 10\n",
        "    # print(truncated)\n",
        "    if truncated < 0.6:\n",
        "        print('F')\n",
        "    else:\n",
        "        print(cheating.get(truncated, 'Bad score'))\n",
        "except:\n",
        "    print(\"Bad score\")"
      ]
    },
    {
      "cell_type": "markdown",
      "metadata": {},
      "source": [
        "#### Bài luyện code chơi của quân, không cần quan tâm đâu ạ! >w<"
      ]
    },
    {
      "cell_type": "code",
      "execution_count": null,
      "metadata": {},
      "outputs": [],
      "source": [
        "# # author: Qan\n",
        "# # LIS problems, stand for Longest Increasing Subsequence\n",
        "\n",
        "# def solve():\n",
        "#     n = int(input())\n",
        "#     a = [0] + list(map(int, input().split()))\n",
        "\n",
        "#     dp = [0] * (n + 1)\n",
        "#     ans = -1\n",
        "    \n",
        "#     for i in range(1, n + 1):\n",
        "#         dp[i] = 1\n",
        "#         for j in range(1, i):\n",
        "#             if a[i] > a[j]:\n",
        "#                 dp[i] = max(dp[i], dp[j] + 1)\n",
        "#         ans = max(ans, dp[i])\n",
        "#     print(ans)\n",
        "\n",
        "# solve()\n",
        "print(\"Hello World!\")\n"
      ]
    },
    {
      "cell_type": "markdown",
      "metadata": {},
      "source": [
        "## **Exercise 4:**\n",
        "Write a program which repeatly reads number util user enter \"done\", then print out total, count, average of the numbers. If user enter anything other than number or \"done\", detect their mistake by try-except and print an error, skip and continue reads. "
      ]
    },
    {
      "cell_type": "code",
      "execution_count": null,
      "metadata": {},
      "outputs": [],
      "source": [
        "total = 0\n",
        "count = 0\n",
        "\n",
        "while True:\n",
        "    user_input = input(\"Enter a number: \")\n",
        "    if user_input.lower() == \"done\":\n",
        "        break\n",
        "    try:\n",
        "        number = float(user_input)\n",
        "        total += number\n",
        "        count += 1\n",
        "    except ValueError:\n",
        "        print(\"Invalid input, please enter a number or 'done' to finish\")\n",
        "\n",
        "if count > 0:\n",
        "    average = total / count\n",
        "    print(f\"Total: {total}, Count: {count}, Average: {average}\")\n",
        "else:\n",
        "    print(\"No numbers were entered\")"
      ]
    },
    {
      "cell_type": "markdown",
      "metadata": {},
      "source": [
        "## **Exercise 5:**\n",
        "Write another program that prompts for a list of numbers as above and at the end prints out both the maximum and minimum of the numbers instead of the average"
      ]
    },
    {
      "cell_type": "code",
      "execution_count": null,
      "metadata": {},
      "outputs": [],
      "source": [
        "total = 0\n",
        "count = 0\n",
        "numbers = []\n",
        "\n",
        "while True:\n",
        "    user_input = input(\"Enter a number: \")\n",
        "    if user_input.lower() == \"done\":\n",
        "        break\n",
        "    try:\n",
        "        number = float(user_input)\n",
        "        numbers.append(number)\n",
        "        total += number\n",
        "        count += 1\n",
        "    except ValueError:\n",
        "        print(\"Invalid input, please enter a number or 'done' to finish\")\n",
        "\n",
        "if count > 0:\n",
        "    maximum = max(numbers)\n",
        "    minimum = min(numbers)\n",
        "    print(f\"Total: {total}, Count: {count}, Maximum: {maximum}, Minimum: {minimum}\")\n",
        "else:\n",
        "    print(\"No numbers were entered\")"
      ]
    },
    {
      "cell_type": "markdown",
      "metadata": {},
      "source": [
        "## **Extra in-class exercise:**\n",
        "Input number n, generate array size of n, each value is randomize from 1 to 100. Find max, min, average of that array. In input, the program will stop if user input number 0 or negative or non-number, use try-except."
      ]
    },
    {
      "cell_type": "code",
      "execution_count": null,
      "metadata": {},
      "outputs": [],
      "source": [
        "import random\n",
        "\n",
        "while True:\n",
        "    try:\n",
        "        n = int(input(\"Enter the size of the array (0 or negative to stop): \"))\n",
        "        if n <= 0:\n",
        "            break\n",
        "        array = [random.randint(1, 100) for _ in range(n)]\n",
        "        maximum = max(array)\n",
        "        minimum = min(array)\n",
        "        average = sum(array) / n\n",
        "        print(array)\n",
        "        print(f\"Maximum: {maximum}, Minimum: {minimum}, Average: {average}\")\n",
        "    except ValueError:\n",
        "        print(\"Invalid input, please enter a positive number\")\n",
        "        break"
      ]
    },
    {
      "cell_type": "code",
      "execution_count": null,
      "metadata": {},
      "outputs": [],
      "source": [
        "n = int(input())\n",
        "arr = []\n",
        "for i in range(n):\n",
        "    arr.append(int(input()))\n",
        "\n",
        "a=[]\n",
        "b=[]\n",
        "arr.sort()\n",
        "if len(a)%2==0:\n",
        "    for i in range(0, len(arr)/2):\n",
        "        a.append(arr[i])\n",
        "    for i in range(len(arr)/2, len(arr)):\n",
        "        b.append(arr[i])\n",
        "else:\n",
        "    for i in range(0, ):\n",
        "        a.append(arr[i])\n",
        "    for i in range((len(arr)-1)/2, len(arr)):\n",
        "        b.append(arr[i])\n",
        "\n",
        "def solve():\n",
        "    hieu=abs(sum(a)-sum(b))\n",
        "    hehe = []\n",
        "    for i in range(len(a)):\n",
        "        hehe.append(a[i]+hieu)\n",
        "    maks=[i for i in b if i <= hieu]\n",
        "    if maks == []:\n",
        "        return hieu\n",
        "    else:\n",
        "        \n",
        "        "
      ]
    },
    {
      "cell_type": "code",
      "execution_count": null,
      "metadata": {},
      "outputs": [],
      "source": []
    }
  ],
  "metadata": {
    "colab": {
      "provenance": []
    },
    "kernelspec": {
      "display_name": "Python 3",
      "language": "python",
      "name": "python3"
    },
    "language_info": {
      "codemirror_mode": {
        "name": "ipython",
        "version": 3
      },
      "file_extension": ".py",
      "mimetype": "text/x-python",
      "name": "python",
      "nbconvert_exporter": "python",
      "pygments_lexer": "ipython3",
      "version": "3.12.3"
    }
  },
  "nbformat": 4,
  "nbformat_minor": 0
}
